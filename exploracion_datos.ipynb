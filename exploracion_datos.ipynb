{
 "cells": [
  {
   "cell_type": "code",
   "execution_count": 2,
   "metadata": {},
   "outputs": [],
   "source": [
    "import pandas as pd\n",
    "import numpy as np\n",
    "\n",
    "df_sedes = pd.read_csv('data original/lista-sedes.csv')\n",
    "df_migraciones = pd.read_csv('data original/datos_migraciones.csv')"
   ]
  },
  {
   "cell_type": "code",
   "execution_count": 10,
   "metadata": {},
   "outputs": [
    {
     "name": "stdout",
     "output_type": "stream",
     "text": [
      "164\n",
      "164\n",
      "164\n",
      "91\n",
      "91\n",
      "91\n",
      "91\n",
      "5\n",
      "2\n"
     ]
    }
   ],
   "source": [
    "print(df_sedes['sede_id'].nunique())\n",
    "print(df_sedes['sede_desc_castellano'].nunique())\n",
    "print(df_sedes['sede_desc_ingles'].nunique())\n",
    "print(df_sedes['pais_iso_2'].nunique())\n",
    "print(df_sedes['pais_iso_3'].nunique())\n",
    "print(df_sedes['pais_castellano'].nunique())\n",
    "print(df_sedes['pais_ingles'].nunique())\n",
    "print(df_sedes['sede_tipo'].nunique())\n",
    "print(df_sedes['estado'].nunique())\n",
    "#find any nulls\n",
    "#print(df_sedes.isnull().sum())"
   ]
  },
  {
   "cell_type": "code",
   "execution_count": 4,
   "metadata": {},
   "outputs": [
    {
     "name": "stdout",
     "output_type": "stream",
     "text": [
      "91\n",
      "91\n",
      "91\n",
      "91\n"
     ]
    }
   ],
   "source": [
    "#find any nulls\n",
    "print(df_sedes.isnull().sum())"
   ]
  },
  {
   "cell_type": "code",
   "execution_count": 5,
   "metadata": {},
   "outputs": [
    {
     "name": "stdout",
     "output_type": "stream",
     "text": [
      "5\n",
      "2\n"
     ]
    }
   ],
   "source": []
  },
  {
   "cell_type": "code",
   "execution_count": 6,
   "metadata": {},
   "outputs": [
    {
     "name": "stdout",
     "output_type": "stream",
     "text": [
      "sede_id                 0\n",
      "sede_desc_castellano    0\n",
      "sede_desc_ingles        0\n",
      "pais_iso_2              0\n",
      "pais_iso_3              0\n",
      "pais_castellano         0\n",
      "pais_ingles             0\n",
      "ciudad_castellano       0\n",
      "ciudad_ingles           0\n",
      "estado                  0\n",
      "sede_tipo               0\n",
      "dtype: int64\n"
     ]
    }
   ],
   "source": []
  },
  {
   "cell_type": "code",
   "execution_count": 7,
   "metadata": {},
   "outputs": [],
   "source": []
  },
  {
   "cell_type": "code",
   "execution_count": 8,
   "metadata": {},
   "outputs": [
    {
     "name": "stdout",
     "output_type": "stream",
     "text": [
      "sede_id                 0\n",
      "sede_desc_castellano    0\n",
      "sede_desc_ingles        0\n",
      "pais_iso_2              0\n",
      "pais_iso_3              0\n",
      "pais_castellano         0\n",
      "pais_ingles             0\n",
      "ciudad_castellano       0\n",
      "ciudad_ingles           0\n",
      "estado                  0\n",
      "sede_tipo               0\n",
      "dtype: int64\n"
     ]
    }
   ],
   "source": []
  },
  {
   "cell_type": "code",
   "execution_count": null,
   "metadata": {},
   "outputs": [],
   "source": []
  }
 ],
 "metadata": {
  "kernelspec": {
   "display_name": "Python 3",
   "language": "python",
   "name": "python3"
  },
  "language_info": {
   "codemirror_mode": {
    "name": "ipython",
    "version": 3
   },
   "file_extension": ".py",
   "mimetype": "text/x-python",
   "name": "python",
   "nbconvert_exporter": "python",
   "pygments_lexer": "ipython3",
   "version": "3.11.1"
  }
 },
 "nbformat": 4,
 "nbformat_minor": 2
}
