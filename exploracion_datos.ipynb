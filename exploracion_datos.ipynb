{
 "cells": [
  {
   "cell_type": "code",
   "execution_count": 111,
   "metadata": {},
   "outputs": [
    {
     "name": "stderr",
     "output_type": "stream",
     "text": [
      "/var/folders/m9/2_1nwl_907v26kxr1jj5r__40000gn/T/ipykernel_7012/3421451258.py:7: FutureWarning: The error_bad_lines argument has been deprecated and will be removed in a future version. Use on_bad_lines in the future.\n",
      "\n",
      "\n",
      "  df_sedes_datos = pd.read_csv('data original/lista-sedes-datos.csv', sep=',', error_bad_lines=False, warn_bad_lines=True)\n",
      "/var/folders/m9/2_1nwl_907v26kxr1jj5r__40000gn/T/ipykernel_7012/3421451258.py:7: FutureWarning: The warn_bad_lines argument has been deprecated and will be removed in a future version. Use on_bad_lines in the future.\n",
      "\n",
      "\n",
      "  df_sedes_datos = pd.read_csv('data original/lista-sedes-datos.csv', sep=',', error_bad_lines=False, warn_bad_lines=True)\n",
      "Skipping line 16: expected 37 fields, saw 38\n",
      "\n"
     ]
    }
   ],
   "source": [
    "#importar librerias y leer los archivos csv\n",
    "import pandas as pd\n",
    "\n",
    "df_sedes = pd.read_csv('data original/lista-sedes.csv')\n",
    "df_migraciones = pd.read_csv('data original/datos_migraciones.csv')\n",
    "df_secciones = pd.read_csv('data original/lista-secciones.csv')\n",
    "df_sedes_datos = pd.read_csv('data original/lista-sedes-datos.csv', sep=',', error_bad_lines=False, warn_bad_lines=True)"
   ]
  },
  {
   "cell_type": "code",
   "execution_count": 112,
   "metadata": {},
   "outputs": [
    {
     "name": "stdout",
     "output_type": "stream",
     "text": [
      "164\n",
      "164\n",
      "164\n",
      "91\n",
      "91\n",
      "91\n",
      "91\n",
      "5\n",
      "2\n",
      "sede_id                 0\n",
      "sede_desc_castellano    0\n",
      "sede_desc_ingles        0\n",
      "pais_iso_2              0\n",
      "pais_iso_3              0\n",
      "pais_castellano         0\n",
      "pais_ingles             0\n",
      "ciudad_castellano       0\n",
      "ciudad_ingles           0\n",
      "estado                  0\n",
      "sede_tipo               0\n",
      "dtype: int64\n"
     ]
    }
   ],
   "source": [
    "#buscar nulls y columnas unicas\n",
    "\n",
    "print(df_sedes['sede_id'].nunique())\n",
    "print(df_sedes['sede_desc_castellano'].nunique())\n",
    "print(df_sedes['sede_desc_ingles'].nunique())\n",
    "print(df_sedes['pais_iso_2'].nunique())\n",
    "print(df_sedes['pais_iso_3'].nunique())\n",
    "print(df_sedes['pais_castellano'].nunique())\n",
    "print(df_sedes['pais_ingles'].nunique())\n",
    "print(df_sedes['sede_tipo'].nunique())\n",
    "print(df_sedes['estado'].nunique())\n",
    "#find any nulls\n",
    "print(df_sedes.isnull().sum())"
   ]
  },
  {
   "cell_type": "code",
   "execution_count": 114,
   "metadata": {},
   "outputs": [
    {
     "name": "stdout",
     "output_type": "stream",
     "text": [
      "Valores de la columna 'Migration by Gender Name': ['Female' 'Male' 'Total' nan]\n"
     ]
    }
   ],
   "source": [
    "\n",
    "# unique values column Migration by Gender Name\n",
    "print(\"Valores de la columna 'Migration by Gender Name':\", df_migraciones['Migration by Gender Name'].unique())"
   ]
  },
  {
   "cell_type": "code",
   "execution_count": 115,
   "metadata": {},
   "outputs": [
    {
     "name": "stdout",
     "output_type": "stream",
     "text": [
      "Cantidad de filas con NaN en 'Migration by Gender Name': 5\n"
     ]
    }
   ],
   "source": [
    "# cantidad de filas con nan en columna Migration by Gender Name\n",
    "print(\"Cantidad de filas con NaN en 'Migration by Gender Name':\", df_migraciones['Migration by Gender Name'].isna().sum())"
   ]
  },
  {
   "cell_type": "code",
   "execution_count": 116,
   "metadata": {},
   "outputs": [],
   "source": [
    "# ELIMINAR COLUMNAS QUE SABEMOS QUE NO VAMOS A USAR\n",
    "\n",
    "# MIGRACIONES\n",
    "# las columnas con códigos son rebundantes, las podemos eliminar\n",
    "df_migraciones = df_migraciones.drop(columns=['Migration by Gender Code', 'Country Origin Code', 'Country Dest Code'])\n",
    "\n",
    "# la columna 'Migration by Gender Name'\n",
    "# no es necesaria para las consultas, basta con utilizar las filas que tienen Total\n",
    "# filtramos las filas que tienen Total en 'Migration by Gender Name'\n",
    "df_migraciones = df_migraciones[df_migraciones['Migration by Gender Name'] == 'Total']\n",
    "# eliminamos la columna 'Migration by Gender Name'\n",
    "df_migraciones = df_migraciones.drop(columns=['Migration by Gender Name'])\n",
    "\n"
   ]
  },
  {
   "cell_type": "code",
   "execution_count": 123,
   "metadata": {},
   "outputs": [
    {
     "name": "stdout",
     "output_type": "stream",
     "text": [
      "Index(['Country Origin Name', 'Country Dest Name', '1960 [1960]',\n",
      "       '1970 [1970]', '1980 [1980]', '1990 [1990]', '2000 [2000]'],\n",
      "      dtype='object')\n"
     ]
    },
    {
     "data": {
      "text/html": [
       "<div>\n",
       "<style scoped>\n",
       "    .dataframe tbody tr th:only-of-type {\n",
       "        vertical-align: middle;\n",
       "    }\n",
       "\n",
       "    .dataframe tbody tr th {\n",
       "        vertical-align: top;\n",
       "    }\n",
       "\n",
       "    .dataframe thead th {\n",
       "        text-align: right;\n",
       "    }\n",
       "</style>\n",
       "<table border=\"1\" class=\"dataframe\">\n",
       "  <thead>\n",
       "    <tr style=\"text-align: right;\">\n",
       "      <th></th>\n",
       "      <th>Country Origin Name</th>\n",
       "      <th>Country Dest Name</th>\n",
       "      <th>1960 [1960]</th>\n",
       "      <th>1970 [1970]</th>\n",
       "      <th>1980 [1980]</th>\n",
       "      <th>1990 [1990]</th>\n",
       "      <th>2000 [2000]</th>\n",
       "    </tr>\n",
       "  </thead>\n",
       "  <tbody>\n",
       "    <tr>\n",
       "      <th>462</th>\n",
       "      <td>Afghanistan</td>\n",
       "      <td>Afghanistan</td>\n",
       "      <td>0</td>\n",
       "      <td>0</td>\n",
       "      <td>0</td>\n",
       "      <td>0</td>\n",
       "      <td>0</td>\n",
       "    </tr>\n",
       "    <tr>\n",
       "      <th>463</th>\n",
       "      <td>Afghanistan</td>\n",
       "      <td>Albania</td>\n",
       "      <td>0</td>\n",
       "      <td>0</td>\n",
       "      <td>0</td>\n",
       "      <td>0</td>\n",
       "      <td>0</td>\n",
       "    </tr>\n",
       "    <tr>\n",
       "      <th>464</th>\n",
       "      <td>Afghanistan</td>\n",
       "      <td>Algeria</td>\n",
       "      <td>41</td>\n",
       "      <td>16</td>\n",
       "      <td>13</td>\n",
       "      <td>10</td>\n",
       "      <td>8</td>\n",
       "    </tr>\n",
       "    <tr>\n",
       "      <th>465</th>\n",
       "      <td>Afghanistan</td>\n",
       "      <td>American Samoa</td>\n",
       "      <td>0</td>\n",
       "      <td>0</td>\n",
       "      <td>0</td>\n",
       "      <td>0</td>\n",
       "      <td>0</td>\n",
       "    </tr>\n",
       "    <tr>\n",
       "      <th>466</th>\n",
       "      <td>Afghanistan</td>\n",
       "      <td>Andorra</td>\n",
       "      <td>0</td>\n",
       "      <td>0</td>\n",
       "      <td>2</td>\n",
       "      <td>5</td>\n",
       "      <td>6</td>\n",
       "    </tr>\n",
       "  </tbody>\n",
       "</table>\n",
       "</div>"
      ],
      "text/plain": [
       "    Country Origin Name Country Dest Name 1960 [1960] 1970 [1970] 1980 [1980]  \\\n",
       "462         Afghanistan       Afghanistan           0           0           0   \n",
       "463         Afghanistan           Albania           0           0           0   \n",
       "464         Afghanistan           Algeria          41          16          13   \n",
       "465         Afghanistan    American Samoa           0           0           0   \n",
       "466         Afghanistan           Andorra           0           0           2   \n",
       "\n",
       "    1990 [1990] 2000 [2000]  \n",
       "462           0           0  \n",
       "463           0           0  \n",
       "464          10           8  \n",
       "465           0           0  \n",
       "466           5           6  "
      ]
     },
     "execution_count": 123,
     "metadata": {},
     "output_type": "execute_result"
    }
   ],
   "source": [
    "print(df_migraciones.columns)\n",
    "df_migraciones.head()"
   ]
  },
  {
   "cell_type": "code",
   "execution_count": 117,
   "metadata": {},
   "outputs": [
    {
     "name": "stdout",
     "output_type": "stream",
     "text": [
      "Valores de la columna 'temas': [nan]\n"
     ]
    }
   ],
   "source": [
    "# unique values column temas \n",
    "print(\"Valores de la columna 'temas':\", df_secciones['temas'].unique())"
   ]
  },
  {
   "cell_type": "code",
   "execution_count": 127,
   "metadata": {},
   "outputs": [
    {
     "name": "stdout",
     "output_type": "stream",
     "text": [
      "Valores unicos en sedes columna sede_tipo: ['Consulado' 'Consulado  General  y  Centro  de  Promoción ' 'Sede  Fija '\n",
      " 'Embajada' 'Misión  Permanente ']\n",
      "Valores unicos en sedes columna estado: ['Activo' 'Inactivo']\n"
     ]
    }
   ],
   "source": [
    "# valores unicos en sedes columna sede_tipo\n",
    "print(\"Valores unicos en sedes columna sede_tipo:\", df_sedes['sede_tipo'].unique())\n",
    "print(\"Valores unicos en sedes columna estado:\", df_sedes['estado'].unique())"
   ]
  },
  {
   "cell_type": "code",
   "execution_count": 128,
   "metadata": {},
   "outputs": [],
   "source": [
    "# SEDES\n",
    "\n",
    "# Las columnas sede_desc_ingles,pais_iso_2,pais_iso_3,pais_ingles,ciudad_ingles, no son necesarias para las consultas\n",
    "df_sedes = df_sedes.drop(columns=['sede_desc_ingles', 'pais_iso_2', 'pais_iso_3', 'pais_ingles', 'ciudad_ingles'])"
   ]
  },
  {
   "cell_type": "code",
   "execution_count": 129,
   "metadata": {},
   "outputs": [
    {
     "data": {
      "text/html": [
       "<div>\n",
       "<style scoped>\n",
       "    .dataframe tbody tr th:only-of-type {\n",
       "        vertical-align: middle;\n",
       "    }\n",
       "\n",
       "    .dataframe tbody tr th {\n",
       "        vertical-align: top;\n",
       "    }\n",
       "\n",
       "    .dataframe thead th {\n",
       "        text-align: right;\n",
       "    }\n",
       "</style>\n",
       "<table border=\"1\" class=\"dataframe\">\n",
       "  <thead>\n",
       "    <tr style=\"text-align: right;\">\n",
       "      <th></th>\n",
       "      <th>sede_id</th>\n",
       "      <th>sede_desc_castellano</th>\n",
       "      <th>pais_castellano</th>\n",
       "      <th>ciudad_castellano</th>\n",
       "      <th>estado</th>\n",
       "      <th>sede_tipo</th>\n",
       "    </tr>\n",
       "  </thead>\n",
       "  <tbody>\n",
       "    <tr>\n",
       "      <th>0</th>\n",
       "      <td>CALEG</td>\n",
       "      <td>Consulado  General  en  Porto  Alegre</td>\n",
       "      <td>REPÚBLICA  FEDERATIVA  DEL  BRASIL</td>\n",
       "      <td>Porto  Alegre</td>\n",
       "      <td>Activo</td>\n",
       "      <td>Consulado</td>\n",
       "    </tr>\n",
       "    <tr>\n",
       "      <th>1</th>\n",
       "      <td>CANTO</td>\n",
       "      <td>Consulado  en  Antofagasta</td>\n",
       "      <td>REPÚBLICA  DE  CHILE</td>\n",
       "      <td>Antofagasta</td>\n",
       "      <td>Activo</td>\n",
       "      <td>Consulado</td>\n",
       "    </tr>\n",
       "    <tr>\n",
       "      <th>2</th>\n",
       "      <td>CAREN</td>\n",
       "      <td>Consulado  General  en  Punta  Arenas</td>\n",
       "      <td>REPÚBLICA  DE  CHILE</td>\n",
       "      <td>Punta  Arenas</td>\n",
       "      <td>Activo</td>\n",
       "      <td>Consulado</td>\n",
       "    </tr>\n",
       "    <tr>\n",
       "      <th>3</th>\n",
       "      <td>CASUN</td>\n",
       "      <td>Consulado  General  en  Asunción</td>\n",
       "      <td>REPÚBLICA  DEL  PARAGUAY</td>\n",
       "      <td>Asunción</td>\n",
       "      <td>Activo</td>\n",
       "      <td>Consulado</td>\n",
       "    </tr>\n",
       "    <tr>\n",
       "      <th>4</th>\n",
       "      <td>CATLA</td>\n",
       "      <td>Consulado  General  en  Atlanta</td>\n",
       "      <td>Estados  Unidos  de  América</td>\n",
       "      <td>Atlanta</td>\n",
       "      <td>Activo</td>\n",
       "      <td>Consulado</td>\n",
       "    </tr>\n",
       "  </tbody>\n",
       "</table>\n",
       "</div>"
      ],
      "text/plain": [
       "  sede_id                   sede_desc_castellano  \\\n",
       "0   CALEG  Consulado  General  en  Porto  Alegre   \n",
       "1   CANTO             Consulado  en  Antofagasta   \n",
       "2   CAREN  Consulado  General  en  Punta  Arenas   \n",
       "3   CASUN       Consulado  General  en  Asunción   \n",
       "4   CATLA        Consulado  General  en  Atlanta   \n",
       "\n",
       "                      pais_castellano ciudad_castellano  estado  sede_tipo  \n",
       "0  REPÚBLICA  FEDERATIVA  DEL  BRASIL     Porto  Alegre  Activo  Consulado  \n",
       "1                REPÚBLICA  DE  CHILE       Antofagasta  Activo  Consulado  \n",
       "2                REPÚBLICA  DE  CHILE     Punta  Arenas  Activo  Consulado  \n",
       "3            REPÚBLICA  DEL  PARAGUAY          Asunción  Activo  Consulado  \n",
       "4        Estados  Unidos  de  América           Atlanta  Activo  Consulado  "
      ]
     },
     "execution_count": 129,
     "metadata": {},
     "output_type": "execute_result"
    }
   ],
   "source": [
    "df_sedes.head()"
   ]
  },
  {
   "cell_type": "code",
   "execution_count": 118,
   "metadata": {},
   "outputs": [
    {
     "data": {
      "text/html": [
       "<div>\n",
       "<style scoped>\n",
       "    .dataframe tbody tr th:only-of-type {\n",
       "        vertical-align: middle;\n",
       "    }\n",
       "\n",
       "    .dataframe tbody tr th {\n",
       "        vertical-align: top;\n",
       "    }\n",
       "\n",
       "    .dataframe thead th {\n",
       "        text-align: right;\n",
       "    }\n",
       "</style>\n",
       "<table border=\"1\" class=\"dataframe\">\n",
       "  <thead>\n",
       "    <tr style=\"text-align: right;\">\n",
       "      <th></th>\n",
       "      <th>sede_id</th>\n",
       "      <th>sede_desc_castellano</th>\n",
       "      <th>tipo_seccion</th>\n",
       "    </tr>\n",
       "  </thead>\n",
       "  <tbody>\n",
       "    <tr>\n",
       "      <th>0</th>\n",
       "      <td>ECHES</td>\n",
       "      <td>Administración</td>\n",
       "      <td>Seccion</td>\n",
       "    </tr>\n",
       "    <tr>\n",
       "      <th>1</th>\n",
       "      <td>ERUNI</td>\n",
       "      <td>Administración</td>\n",
       "      <td>Seccion</td>\n",
       "    </tr>\n",
       "    <tr>\n",
       "      <th>2</th>\n",
       "      <td>EHAIT</td>\n",
       "      <td>Administración</td>\n",
       "      <td>Seccion</td>\n",
       "    </tr>\n",
       "    <tr>\n",
       "      <th>3</th>\n",
       "      <td>EKENY</td>\n",
       "      <td>Administración</td>\n",
       "      <td>Seccion</td>\n",
       "    </tr>\n",
       "    <tr>\n",
       "      <th>4</th>\n",
       "      <td>ERUNI</td>\n",
       "      <td>Administración</td>\n",
       "      <td>Seccion</td>\n",
       "    </tr>\n",
       "  </tbody>\n",
       "</table>\n",
       "</div>"
      ],
      "text/plain": [
       "  sede_id sede_desc_castellano tipo_seccion\n",
       "0   ECHES       Administración      Seccion\n",
       "1   ERUNI       Administración      Seccion\n",
       "2   EHAIT       Administración      Seccion\n",
       "3   EKENY       Administración      Seccion\n",
       "4   ERUNI       Administración      Seccion"
      ]
     },
     "execution_count": 118,
     "metadata": {},
     "output_type": "execute_result"
    }
   ],
   "source": [
    "# SECCIONES\n",
    "# las columnas 'sede_desc_ingles' no es necesaria ya que ya tenemos el nombre en español\n",
    "df_secciones = df_secciones.drop(columns=['sede_desc_ingles'])\n",
    "\n",
    "# las columnas \n",
    "# 'nombre_titular, apellido_titular, cargo_titular, \n",
    "# telefono_principal, telefonos_adicionales, celular_de_guardia, \n",
    "# celulares_adicionales, fax_principal, faxes_adicionales, sitio_web, sitios_web_adicionales, comentario_del_horario,\n",
    "# correo_electronico, correos_adicionales, atencion_dia_desde, atencion_dia_hasta, atencion_hora_desde, atencion_hora_hasta' \n",
    "# no son necesarias ya que no vamos a analizar los datos de contacto ni de los titulares de las sedes\n",
    "df_secciones = df_secciones.drop(columns=[\n",
    "    'nombre_titular', 'apellido_titular', 'cargo_titular', 'telefono_principal', 'telefonos_adicionales', \n",
    "    'celular_de_guardia', 'celulares_adicionales', 'fax_principal', 'faxes_adicionales', \n",
    "    'sitio_web', 'sitios_web_adicionales', 'comentario_del_horario',\n",
    "    'correo_electronico', 'correos_adicionales', 'atencion_dia_desde', 'atencion_dia_hasta', \n",
    "    'atencion_hora_desde', 'atencion_hora_hasta'])\n",
    "\n",
    "# también sacamos la columna temas, ya que está vacía\n",
    "df_secciones = df_secciones.drop(columns=['temas'])\n",
    "df_secciones.head()"
   ]
  },
  {
   "cell_type": "code",
   "execution_count": 119,
   "metadata": {},
   "outputs": [
    {
     "data": {
      "text/plain": [
       "Index(['sede_id', 'sede_desc_castellano', 'sede_desc_ingles',\n",
       "       'pais_castellano', 'pais_ingles', 'region_geografica', 'pais_iso_2',\n",
       "       'pais_iso_3', 'pais_codigo_telefonico', 'ciudad_castellano',\n",
       "       'ciudad_ingles', 'ciudad_zona_horaria_gmt', 'ciudad_codigo_telefonico',\n",
       "       'estado', 'titular_nombre', 'titular_apellido', 'titular_cargo',\n",
       "       'direccion', 'codigo_postal', 'telefono_principal',\n",
       "       'telefonos_adicionales', 'celular_guardia', 'celulares_adicionales',\n",
       "       'fax_principal', 'faxes_adicionales', 'correo_electronico',\n",
       "       'correos_electronicos_adicionales', 'sitio_web',\n",
       "       'sitios_web_adicionales', 'redes_sociales', 'atencion_dia_desde',\n",
       "       'atencion_dia_hasta', 'atencion_hora_desde', 'atencion_hora_hasta',\n",
       "       'atencion_comentario', 'concurrencias', 'circunscripcion'],\n",
       "      dtype='object')"
      ]
     },
     "execution_count": 119,
     "metadata": {},
     "output_type": "execute_result"
    }
   ],
   "source": [
    "df_sedes_datos.columns"
   ]
  },
  {
   "cell_type": "code",
   "execution_count": 124,
   "metadata": {},
   "outputs": [],
   "source": [
    "# valores unicos para concurrencias\n",
    "#print(\"Valores de la columna 'concurrencias':\", df_sedes_datos['concurrencias'].unique())"
   ]
  },
  {
   "cell_type": "code",
   "execution_count": 122,
   "metadata": {},
   "outputs": [],
   "source": [
    "# LISTA-SEDES-DATOS\n",
    "\n",
    "# las columnas 'sede_desc_ingles', 'ciudad_ingles' y 'pais_ingles' no es necesaria ya que ya tenemos el nombre en español\n",
    "df_sedes_datos = df_sedes_datos.drop(columns=['sede_desc_ingles', 'ciudad_ingles', 'pais_ingles'])\n",
    "\n",
    "# las columnas 'pais_iso_2' y 'pais_iso_3' y 'codigo_postal', 'telefono_principal' no son necesarias para ninguna consulta\n",
    "df_sedes_datos = df_sedes_datos.drop(columns=['pais_iso_2', 'pais_iso_3', 'codigo_postal','telefono_principal'])\n",
    "\n",
    "# la columna 'pais_codigo_telefonico' no es necesaria para ninguna consulta\n",
    "df_sedes_datos = df_sedes_datos.drop(columns=['pais_codigo_telefonico'])\n",
    "\n",
    "# las columnas 'ciudad_zona_horaria_gmt\tciudad_codigo_telefonico titular_nombre\ttitular_apellido\ttitular_cargo\tdireccion' no son necesarias para ninguna consulta\n",
    "df_sedes_datos = df_sedes_datos.drop(columns=['ciudad_zona_horaria_gmt', 'ciudad_codigo_telefonico', 'titular_nombre',\t'titular_apellido',\t'titular_cargo',\t'direccion'])\n",
    "\n",
    "# las columnas 'sitio_web\tsitios_web_adicionales telefonos_adicionales\tcelular_guardia\tcelulares_adicionales\tfax_principal\tfaxes_adicionales\tcorreo_electronico\tcorreos_electronicos_adicionales' no son necesarias para ninguna consulta\n",
    "df_sedes_datos = df_sedes_datos.drop(columns=['sitio_web', 'sitios_web_adicionales', 'telefonos_adicionales',\t'celular_guardia',\t'celulares_adicionales',\t'fax_principal',\t'faxes_adicionales'\t, 'correo_electronico',\t'correos_electronicos_adicionales'])\n",
    "\n",
    "# las columnas 'atencion_dia_desde\tatencion_dia_hasta\tatencion_hora_desde\tatencion_hora_hasta\tatencion_comentario' no son necesarias para ninguna consulta\n",
    "df_sedes_datos = df_sedes_datos.drop(columns=['atencion_dia_desde', 'atencion_dia_hasta', 'atencion_hora_desde', 'atencion_hora_hasta', 'atencion_comentario'])\n"
   ]
  },
  {
   "cell_type": "code",
   "execution_count": 125,
   "metadata": {},
   "outputs": [
    {
     "data": {
      "text/html": [
       "<div>\n",
       "<style scoped>\n",
       "    .dataframe tbody tr th:only-of-type {\n",
       "        vertical-align: middle;\n",
       "    }\n",
       "\n",
       "    .dataframe tbody tr th {\n",
       "        vertical-align: top;\n",
       "    }\n",
       "\n",
       "    .dataframe thead th {\n",
       "        text-align: right;\n",
       "    }\n",
       "</style>\n",
       "<table border=\"1\" class=\"dataframe\">\n",
       "  <thead>\n",
       "    <tr style=\"text-align: right;\">\n",
       "      <th></th>\n",
       "      <th>sede_id</th>\n",
       "      <th>sede_desc_castellano</th>\n",
       "      <th>pais_castellano</th>\n",
       "      <th>region_geografica</th>\n",
       "      <th>ciudad_castellano</th>\n",
       "      <th>estado</th>\n",
       "      <th>redes_sociales</th>\n",
       "      <th>concurrencias</th>\n",
       "      <th>circunscripcion</th>\n",
       "    </tr>\n",
       "  </thead>\n",
       "  <tbody>\n",
       "    <tr>\n",
       "      <th>0</th>\n",
       "      <td>CALEG</td>\n",
       "      <td>Consulado  General  en  Porto  Alegre</td>\n",
       "      <td>REPÚBLICA  FEDERATIVA  DEL  BRASIL</td>\n",
       "      <td>AMÉRICA  DEL  SUR</td>\n",
       "      <td>Porto  Alegre</td>\n",
       "      <td>Activo</td>\n",
       "      <td>https://twitter.com/ArgPortoAlegre  //  https:...</td>\n",
       "      <td>NaN</td>\n",
       "      <td>Aceguá;  Água  Santa;  Agudo;  Alto  Alegre;  ...</td>\n",
       "    </tr>\n",
       "    <tr>\n",
       "      <th>1</th>\n",
       "      <td>CANTO</td>\n",
       "      <td>Consulado  en  Antofagasta</td>\n",
       "      <td>REPÚBLICA  DE  CHILE</td>\n",
       "      <td>AMÉRICA  DEL  SUR</td>\n",
       "      <td>Antofagasta</td>\n",
       "      <td>Activo</td>\n",
       "      <td>https://www.facebook.com/Consulado-de-la-Rep%C...</td>\n",
       "      <td>NaN</td>\n",
       "      <td>Región  de  Arica  y  Parinacota  -  Capital  ...</td>\n",
       "    </tr>\n",
       "    <tr>\n",
       "      <th>2</th>\n",
       "      <td>CAREN</td>\n",
       "      <td>Consulado  General  en  Punta  Arenas</td>\n",
       "      <td>REPÚBLICA  DE  CHILE</td>\n",
       "      <td>AMÉRICA  DEL  SUR</td>\n",
       "      <td>Punta  Arenas</td>\n",
       "      <td>Activo</td>\n",
       "      <td>https://www.facebook.com/profile.php?id=100014...</td>\n",
       "      <td>NaN</td>\n",
       "      <td>Región  XII  Magallanes  y  Antártica  Chilena...</td>\n",
       "    </tr>\n",
       "    <tr>\n",
       "      <th>3</th>\n",
       "      <td>CASUN</td>\n",
       "      <td>Consulado  General  en  Asunción</td>\n",
       "      <td>REPÚBLICA  DEL  PARAGUAY</td>\n",
       "      <td>AMÉRICA  DEL  SUR</td>\n",
       "      <td>Asunción</td>\n",
       "      <td>Activo</td>\n",
       "      <td>@ArgentinaEnAsuncion  //</td>\n",
       "      <td>NaN</td>\n",
       "      <td>Departamentos  de  Boquerón, Alto  Paraguay, P...</td>\n",
       "    </tr>\n",
       "    <tr>\n",
       "      <th>4</th>\n",
       "      <td>CATLA</td>\n",
       "      <td>Consulado  General  en  Atlanta</td>\n",
       "      <td>Estados  Unidos  de  América</td>\n",
       "      <td>AMÉRICA  DEL  NORTE</td>\n",
       "      <td>Atlanta</td>\n",
       "      <td>Activo</td>\n",
       "      <td>NaN</td>\n",
       "      <td>NaN</td>\n",
       "      <td>Estados  de  Alabama, Carolina  del  Sur, Geor...</td>\n",
       "    </tr>\n",
       "  </tbody>\n",
       "</table>\n",
       "</div>"
      ],
      "text/plain": [
       "  sede_id                   sede_desc_castellano  \\\n",
       "0   CALEG  Consulado  General  en  Porto  Alegre   \n",
       "1   CANTO             Consulado  en  Antofagasta   \n",
       "2   CAREN  Consulado  General  en  Punta  Arenas   \n",
       "3   CASUN       Consulado  General  en  Asunción   \n",
       "4   CATLA        Consulado  General  en  Atlanta   \n",
       "\n",
       "                      pais_castellano    region_geografica ciudad_castellano  \\\n",
       "0  REPÚBLICA  FEDERATIVA  DEL  BRASIL    AMÉRICA  DEL  SUR     Porto  Alegre   \n",
       "1                REPÚBLICA  DE  CHILE    AMÉRICA  DEL  SUR       Antofagasta   \n",
       "2                REPÚBLICA  DE  CHILE    AMÉRICA  DEL  SUR     Punta  Arenas   \n",
       "3            REPÚBLICA  DEL  PARAGUAY    AMÉRICA  DEL  SUR          Asunción   \n",
       "4        Estados  Unidos  de  América  AMÉRICA  DEL  NORTE           Atlanta   \n",
       "\n",
       "   estado                                     redes_sociales concurrencias  \\\n",
       "0  Activo  https://twitter.com/ArgPortoAlegre  //  https:...           NaN   \n",
       "1  Activo  https://www.facebook.com/Consulado-de-la-Rep%C...           NaN   \n",
       "2  Activo  https://www.facebook.com/profile.php?id=100014...           NaN   \n",
       "3  Activo                         @ArgentinaEnAsuncion  //             NaN   \n",
       "4  Activo                                                NaN           NaN   \n",
       "\n",
       "                                     circunscripcion  \n",
       "0  Aceguá;  Água  Santa;  Agudo;  Alto  Alegre;  ...  \n",
       "1  Región  de  Arica  y  Parinacota  -  Capital  ...  \n",
       "2  Región  XII  Magallanes  y  Antártica  Chilena...  \n",
       "3  Departamentos  de  Boquerón, Alto  Paraguay, P...  \n",
       "4  Estados  de  Alabama, Carolina  del  Sur, Geor...  "
      ]
     },
     "execution_count": 125,
     "metadata": {},
     "output_type": "execute_result"
    }
   ],
   "source": [
    "df_sedes_datos.head()"
   ]
  },
  {
   "cell_type": "code",
   "execution_count": null,
   "metadata": {},
   "outputs": [],
   "source": []
  }
 ],
 "metadata": {
  "kernelspec": {
   "display_name": "Python 3",
   "language": "python",
   "name": "python3"
  },
  "language_info": {
   "codemirror_mode": {
    "name": "ipython",
    "version": 3
   },
   "file_extension": ".py",
   "mimetype": "text/x-python",
   "name": "python",
   "nbconvert_exporter": "python",
   "pygments_lexer": "ipython3",
   "version": "3.11.1"
  }
 },
 "nbformat": 4,
 "nbformat_minor": 2
}
